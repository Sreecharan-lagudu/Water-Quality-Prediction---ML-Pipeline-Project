{
 "cells": [
  {
   "cell_type": "code",
   "execution_count": 1,
   "metadata": {},
   "outputs": [],
   "source": [
    "# Importing Libraries\n",
    "import pandas as pd  # Dataframe Manipulation  \n",
    "import numpy as np  # Array/lists Handlings\n",
    "import matplotlib.pyplot as plt  # Data Visualization\n",
    "import seaborn as sns  # For data visualization\n",
    "from pandas.api.types import is_numeric_dtype\n",
    "import joblib "
   ]
  },
  {
   "cell_type": "code",
   "execution_count": 2,
   "metadata": {},
   "outputs": [],
   "source": [
    "# Importing Dataset\n",
    "df = pd.read_csv(\"Water data.csv\")\n"
   ]
  },
  {
   "cell_type": "code",
   "execution_count": 3,
   "metadata": {},
   "outputs": [
    {
     "name": "stdout",
     "output_type": "stream",
     "text": [
      "<class 'pandas.core.frame.DataFrame'>\n",
      "RangeIndex: 719998 entries, 0 to 719997\n",
      "Data columns (total 23 columns):\n",
      " #   Column                  Non-Null Count   Dtype  \n",
      "---  ------                  --------------   -----  \n",
      " 0   pH                      706067 non-null  float64\n",
      " 1   Iron                    715157 non-null  float64\n",
      " 2   Nitrate                 707167 non-null  float64\n",
      " 3   Chloride                698816 non-null  float64\n",
      " 4   Lead                    716787 non-null  float64\n",
      " 5   Zinc                    701055 non-null  float64\n",
      " 6   Color                   719321 non-null  object \n",
      " 7   Turbidity               714055 non-null  float64\n",
      " 8   Fluoride                697080 non-null  float64\n",
      " 9   Copper                  696023 non-null  float64\n",
      " 10  Odor                    698473 non-null  float64\n",
      " 11  Sulfate                 696240 non-null  float64\n",
      " 12  Conductivity            700183 non-null  float64\n",
      " 13  Chlorine                713008 non-null  float64\n",
      " 14  Manganese               706721 non-null  float64\n",
      " 15  Total Dissolved Solids  719799 non-null  float64\n",
      " 16  Source                  709419 non-null  object \n",
      " 17  Water Temperature       699646 non-null  float64\n",
      " 18  Air Temperature         716385 non-null  float64\n",
      " 19  Month                   708347 non-null  object \n",
      " 20  Day                     707852 non-null  float64\n",
      " 21  Time of Day             705986 non-null  float64\n",
      " 22  Target                  719998 non-null  int64  \n",
      "dtypes: float64(19), int64(1), object(3)\n",
      "memory usage: 126.3+ MB\n"
     ]
    }
   ],
   "source": [
    "# Data Information\n",
    "df.info()"
   ]
  },
  {
   "cell_type": "code",
   "execution_count": 4,
   "metadata": {},
   "outputs": [
    {
     "data": {
      "text/plain": [
       "pH                        float64\n",
       "Iron                      float64\n",
       "Nitrate                   float64\n",
       "Chloride                  float64\n",
       "Lead                      float64\n",
       "Zinc                      float64\n",
       "Color                      object\n",
       "Turbidity                 float64\n",
       "Fluoride                  float64\n",
       "Copper                    float64\n",
       "Odor                      float64\n",
       "Sulfate                   float64\n",
       "Conductivity              float64\n",
       "Chlorine                  float64\n",
       "Manganese                 float64\n",
       "Total Dissolved Solids    float64\n",
       "Source                     object\n",
       "Water Temperature         float64\n",
       "Air Temperature           float64\n",
       "Month                      object\n",
       "Day                       float64\n",
       "Time of Day               float64\n",
       "Target                      int64\n",
       "dtype: object"
      ]
     },
     "execution_count": 4,
     "metadata": {},
     "output_type": "execute_result"
    }
   ],
   "source": [
    "# Describing the dataset\n",
    "df.describe()\n",
    "df.isna().sum()\n",
    "df.dtypes\n"
   ]
  },
  {
   "cell_type": "code",
   "execution_count": 5,
   "metadata": {},
   "outputs": [],
   "source": [
    "# Label Encoding\n",
    "from sklearn.preprocessing import LabelEncoder\n"
   ]
  },
  {
   "cell_type": "code",
   "execution_count": 6,
   "metadata": {},
   "outputs": [],
   "source": [
    "# Initialize encoder\n",
    "encoder = LabelEncoder()"
   ]
  },
  {
   "cell_type": "code",
   "execution_count": 7,
   "metadata": {},
   "outputs": [],
   "source": [
    "# Apply encoding\n",
    "df[\"Source\"] = encoder.fit_transform(df[\"Source\"])  \n",
    "df[\"Color\"] = encoder.fit_transform(df[\"Color\"])  \n",
    "df[\"Month\"] = encoder.fit_transform(df[\"Month\"]) \n"
   ]
  },
  {
   "cell_type": "code",
   "execution_count": 8,
   "metadata": {},
   "outputs": [
    {
     "name": "stdout",
     "output_type": "stream",
     "text": [
      "[8 2 4 1 5 6 0 3 7]\n",
      "[ 4  9  0  6  7 11  8  5  1 10  2  3 12]\n",
      "[0 1 2 3 4 5]\n"
     ]
    }
   ],
   "source": [
    "# Check unique values after encoding\n",
    "print(df[\"Source\"].unique())\n",
    "print(df[\"Month\"].unique())\n",
    "print(df[\"Color\"].unique())"
   ]
  },
  {
   "cell_type": "code",
   "execution_count": 9,
   "metadata": {},
   "outputs": [
    {
     "data": {
      "text/plain": [
       "pH                        13931\n",
       "Iron                       4841\n",
       "Nitrate                   12831\n",
       "Chloride                  21182\n",
       "Lead                       3211\n",
       "Zinc                      18943\n",
       "Color                         0\n",
       "Turbidity                  5943\n",
       "Fluoride                  22918\n",
       "Copper                    23975\n",
       "Odor                      21525\n",
       "Sulfate                   23758\n",
       "Conductivity              19815\n",
       "Chlorine                   6990\n",
       "Manganese                 13277\n",
       "Total Dissolved Solids      199\n",
       "Source                        0\n",
       "Water Temperature         20352\n",
       "Air Temperature            3613\n",
       "Month                         0\n",
       "Day                       12146\n",
       "Time of Day               14012\n",
       "Target                        0\n",
       "dtype: int64"
      ]
     },
     "execution_count": 9,
     "metadata": {},
     "output_type": "execute_result"
    }
   ],
   "source": [
    "# Handling Missing values\n",
    "df.isna().sum()"
   ]
  },
  {
   "cell_type": "code",
   "execution_count": 10,
   "metadata": {},
   "outputs": [],
   "source": [
    "# Data Cleaning\n",
    "numeric_columns = []\n",
    "for i in df.columns:\n",
    "    if is_numeric_dtype(df[i]):\n",
    "        numeric_columns.append(i)"
   ]
  },
  {
   "cell_type": "code",
   "execution_count": 11,
   "metadata": {},
   "outputs": [],
   "source": [
    "for i in numeric_columns:\n",
    "    if -0.5 < df[i].skew() < 0.5:\n",
    "        df.fillna(df[i].mean(), inplace=True)\n",
    "    else:\n",
    "        df.fillna(df[i].median(), inplace=True)"
   ]
  },
  {
   "cell_type": "code",
   "execution_count": 12,
   "metadata": {},
   "outputs": [
    {
     "name": "stdout",
     "output_type": "stream",
     "text": [
      "['pH', 'Iron', 'Nitrate', 'Chloride', 'Lead', 'Zinc', 'Color', 'Turbidity', 'Fluoride', 'Copper', 'Odor', 'Sulfate', 'Conductivity', 'Chlorine', 'Manganese', 'Total Dissolved Solids', 'Source', 'Water Temperature', 'Air Temperature', 'Month', 'Day', 'Time of Day', 'Target']\n"
     ]
    },
    {
     "data": {
      "text/html": [
       "<div>\n",
       "<style scoped>\n",
       "    .dataframe tbody tr th:only-of-type {\n",
       "        vertical-align: middle;\n",
       "    }\n",
       "\n",
       "    .dataframe tbody tr th {\n",
       "        vertical-align: top;\n",
       "    }\n",
       "\n",
       "    .dataframe thead th {\n",
       "        text-align: right;\n",
       "    }\n",
       "</style>\n",
       "<table border=\"1\" class=\"dataframe\">\n",
       "  <thead>\n",
       "    <tr style=\"text-align: right;\">\n",
       "      <th></th>\n",
       "      <th>pH</th>\n",
       "      <th>Iron</th>\n",
       "      <th>Nitrate</th>\n",
       "      <th>Chloride</th>\n",
       "      <th>Lead</th>\n",
       "      <th>Zinc</th>\n",
       "      <th>Color</th>\n",
       "      <th>Turbidity</th>\n",
       "      <th>Fluoride</th>\n",
       "      <th>Copper</th>\n",
       "      <th>...</th>\n",
       "      <th>Chlorine</th>\n",
       "      <th>Manganese</th>\n",
       "      <th>Total Dissolved Solids</th>\n",
       "      <th>Source</th>\n",
       "      <th>Water Temperature</th>\n",
       "      <th>Air Temperature</th>\n",
       "      <th>Month</th>\n",
       "      <th>Day</th>\n",
       "      <th>Time of Day</th>\n",
       "      <th>Target</th>\n",
       "    </tr>\n",
       "  </thead>\n",
       "  <tbody>\n",
       "    <tr>\n",
       "      <th>0</th>\n",
       "      <td>8.33</td>\n",
       "      <td>0.00</td>\n",
       "      <td>8.61</td>\n",
       "      <td>122.80</td>\n",
       "      <td>0.0</td>\n",
       "      <td>3.43</td>\n",
       "      <td>0</td>\n",
       "      <td>0.02</td>\n",
       "      <td>0.61</td>\n",
       "      <td>0.14</td>\n",
       "      <td>...</td>\n",
       "      <td>3.71</td>\n",
       "      <td>0.00</td>\n",
       "      <td>332.12</td>\n",
       "      <td>8</td>\n",
       "      <td>7.448288</td>\n",
       "      <td>43.49</td>\n",
       "      <td>4</td>\n",
       "      <td>29.0</td>\n",
       "      <td>4.0</td>\n",
       "      <td>0</td>\n",
       "    </tr>\n",
       "    <tr>\n",
       "      <th>1</th>\n",
       "      <td>6.92</td>\n",
       "      <td>0.00</td>\n",
       "      <td>3.73</td>\n",
       "      <td>227.03</td>\n",
       "      <td>0.0</td>\n",
       "      <td>1.25</td>\n",
       "      <td>1</td>\n",
       "      <td>0.02</td>\n",
       "      <td>0.62</td>\n",
       "      <td>0.44</td>\n",
       "      <td>...</td>\n",
       "      <td>3.29</td>\n",
       "      <td>0.00</td>\n",
       "      <td>284.64</td>\n",
       "      <td>2</td>\n",
       "      <td>15.350000</td>\n",
       "      <td>71.22</td>\n",
       "      <td>9</td>\n",
       "      <td>26.0</td>\n",
       "      <td>16.0</td>\n",
       "      <td>0</td>\n",
       "    </tr>\n",
       "    <tr>\n",
       "      <th>2</th>\n",
       "      <td>5.44</td>\n",
       "      <td>0.02</td>\n",
       "      <td>3.82</td>\n",
       "      <td>231.00</td>\n",
       "      <td>0.0</td>\n",
       "      <td>0.53</td>\n",
       "      <td>2</td>\n",
       "      <td>0.32</td>\n",
       "      <td>0.42</td>\n",
       "      <td>0.43</td>\n",
       "      <td>...</td>\n",
       "      <td>3.56</td>\n",
       "      <td>0.07</td>\n",
       "      <td>570.05</td>\n",
       "      <td>4</td>\n",
       "      <td>11.640000</td>\n",
       "      <td>44.89</td>\n",
       "      <td>4</td>\n",
       "      <td>31.0</td>\n",
       "      <td>8.0</td>\n",
       "      <td>0</td>\n",
       "    </tr>\n",
       "    <tr>\n",
       "      <th>3</th>\n",
       "      <td>7.96</td>\n",
       "      <td>0.14</td>\n",
       "      <td>8.22</td>\n",
       "      <td>178.13</td>\n",
       "      <td>0.0</td>\n",
       "      <td>4.03</td>\n",
       "      <td>3</td>\n",
       "      <td>0.17</td>\n",
       "      <td>0.21</td>\n",
       "      <td>0.24</td>\n",
       "      <td>...</td>\n",
       "      <td>3.52</td>\n",
       "      <td>0.02</td>\n",
       "      <td>100.04</td>\n",
       "      <td>1</td>\n",
       "      <td>10.090000</td>\n",
       "      <td>60.84</td>\n",
       "      <td>0</td>\n",
       "      <td>1.0</td>\n",
       "      <td>21.0</td>\n",
       "      <td>0</td>\n",
       "    </tr>\n",
       "    <tr>\n",
       "      <th>4</th>\n",
       "      <td>8.09</td>\n",
       "      <td>0.00</td>\n",
       "      <td>9.93</td>\n",
       "      <td>186.54</td>\n",
       "      <td>0.0</td>\n",
       "      <td>3.81</td>\n",
       "      <td>2</td>\n",
       "      <td>0.00</td>\n",
       "      <td>0.22</td>\n",
       "      <td>0.62</td>\n",
       "      <td>...</td>\n",
       "      <td>3.18</td>\n",
       "      <td>0.00</td>\n",
       "      <td>168.08</td>\n",
       "      <td>5</td>\n",
       "      <td>15.250000</td>\n",
       "      <td>69.34</td>\n",
       "      <td>6</td>\n",
       "      <td>29.0</td>\n",
       "      <td>7.0</td>\n",
       "      <td>0</td>\n",
       "    </tr>\n",
       "  </tbody>\n",
       "</table>\n",
       "<p>5 rows × 23 columns</p>\n",
       "</div>"
      ],
      "text/plain": [
       "     pH  Iron  Nitrate  Chloride  Lead  Zinc  Color  Turbidity  Fluoride  \\\n",
       "0  8.33  0.00     8.61    122.80   0.0  3.43      0       0.02      0.61   \n",
       "1  6.92  0.00     3.73    227.03   0.0  1.25      1       0.02      0.62   \n",
       "2  5.44  0.02     3.82    231.00   0.0  0.53      2       0.32      0.42   \n",
       "3  7.96  0.14     8.22    178.13   0.0  4.03      3       0.17      0.21   \n",
       "4  8.09  0.00     9.93    186.54   0.0  3.81      2       0.00      0.22   \n",
       "\n",
       "   Copper  ...  Chlorine  Manganese  Total Dissolved Solids  Source  \\\n",
       "0    0.14  ...      3.71       0.00                  332.12       8   \n",
       "1    0.44  ...      3.29       0.00                  284.64       2   \n",
       "2    0.43  ...      3.56       0.07                  570.05       4   \n",
       "3    0.24  ...      3.52       0.02                  100.04       1   \n",
       "4    0.62  ...      3.18       0.00                  168.08       5   \n",
       "\n",
       "   Water Temperature  Air Temperature  Month   Day  Time of Day  Target  \n",
       "0           7.448288            43.49      4  29.0          4.0       0  \n",
       "1          15.350000            71.22      9  26.0         16.0       0  \n",
       "2          11.640000            44.89      4  31.0          8.0       0  \n",
       "3          10.090000            60.84      0   1.0         21.0       0  \n",
       "4          15.250000            69.34      6  29.0          7.0       0  \n",
       "\n",
       "[5 rows x 23 columns]"
      ]
     },
     "execution_count": 12,
     "metadata": {},
     "output_type": "execute_result"
    }
   ],
   "source": [
    "\n",
    "print(numeric_columns)\n",
    "df.isna().sum()\n",
    "df.head()"
   ]
  },
  {
   "cell_type": "code",
   "execution_count": 13,
   "metadata": {},
   "outputs": [],
   "source": [
    "# Exporting the preprocessed data to a new CSV file\n",
    "df.to_csv(\"cleaned_data.csv\", index=False)"
   ]
  },
  {
   "cell_type": "code",
   "execution_count": null,
   "metadata": {},
   "outputs": [],
   "source": []
  }
 ],
 "metadata": {
  "kernelspec": {
   "display_name": "base",
   "language": "python",
   "name": "python3"
  },
  "language_info": {
   "codemirror_mode": {
    "name": "ipython",
    "version": 3
   },
   "file_extension": ".py",
   "mimetype": "text/x-python",
   "name": "python",
   "nbconvert_exporter": "python",
   "pygments_lexer": "ipython3",
   "version": "3.12.7"
  }
 },
 "nbformat": 4,
 "nbformat_minor": 2
}
